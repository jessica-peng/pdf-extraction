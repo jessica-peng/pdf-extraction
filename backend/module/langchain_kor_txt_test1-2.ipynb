{
 "cells": [
  {
   "cell_type": "code",
   "execution_count": 25,
   "metadata": {},
   "outputs": [
    {
     "name": "stdout",
     "output_type": "stream",
     "text": [
      "Python 3.8.10\n"
     ]
    }
   ],
   "source": [
    "#!pip install langchain\n",
    "from langchain.text_splitter import CharacterTextSplitter\n",
    "!python --version"
   ]
  },
  {
   "cell_type": "code",
   "execution_count": 26,
   "metadata": {
    "pycharm": {
     "name": "#%%\n"
    }
   },
   "outputs": [],
   "source": [
    "# import openai\n",
    "# openai.Model.list()"
   ]
  },
  {
   "cell_type": "markdown",
   "metadata": {},
   "source": [
    "Read OPENAI API KEY"
   ]
  },
  {
   "cell_type": "code",
   "execution_count": 27,
   "metadata": {
    "pycharm": {
     "name": "#%%\n"
    }
   },
   "outputs": [],
   "source": [
    "from langchain.chat_models import ChatOpenAI\n",
    "from kor import create_extraction_chain, Object, Text, Number, extract_from_documents\n",
    "\n",
    "with open(\"API_KEY\", \"r\", encoding=\"utf-8\") as f:\n",
    "    key = f.read()"
   ]
  },
  {
   "cell_type": "markdown",
   "metadata": {
    "pycharm": {
     "name": "#%% md\n"
    }
   },
   "source": [
    "Generate LengChain\n",
    "Instantiate a langchain LLM and create a chain."
   ]
  },
  {
   "cell_type": "code",
   "execution_count": 28,
   "metadata": {
    "pycharm": {
     "name": "#%%\n"
    }
   },
   "outputs": [],
   "source": [
    "llm = ChatOpenAI(\n",
    "    model_name=\"gpt-3.5-turbo\",\n",
    "    temperature=0,\n",
    "    max_tokens=900,\n",
    "    openai_api_key=key\n",
    ")"
   ]
  },
  {
   "cell_type": "markdown",
   "metadata": {},
   "source": [
    "create schema for some category of pdf file"
   ]
  },
  {
   "cell_type": "code",
   "execution_count": 29,
   "metadata": {},
   "outputs": [],
   "source": [
    "appeal = Object(\n",
    "    id=\"appeal\",\n",
    "    description=\"上訴人相關資訊;例如:法定代理人,訴訟代理人,代表人...等等\",\n",
    "    attributes=[\n",
    "        Text(id=\"agent\", description=\"代理人\", many=True),\n",
    "        Text(id=\"appellant\", description=\"上訴人\", examples=[(\"原告　蔡宗甫\\n\", \"蔡宗甫\"),\n",
    "                                                            (\"聲請人　陳鴻斌\\n\", \"陳鴻斌\"),\n",
    "                                                            (\"聲請人　新鑫股份有限公司\\n\", \"新鑫股份有限公司\")], many=True),\n",
    "        Text(id=\"representative\", description=\"代表人\", many=True),\n",
    "        Text(id=\"attorney\", description=\"訴訟代理人\", examples=[(\"訴訟代理人　林虹妤\\n\", \"林虹妤\")], many=True),\n",
    "        Text(id=\"reagent\", description=\"複代理人\", many=True),\n",
    "        Text(id=\"legal_representative\", description=\"法定代理人\", examples=[(\"法定代理人　許國興\\n\", \"許國興\")], many=True),\n",
    "        Text(id=\"defender\", description=\"辯護人\", many=True),\n",
    "        Text(id=\"assistant\", description=\"輔佐人\", many=True)\n",
    "    ]\n",
    ")\n",
    "\n",
    "appealed = Object(\n",
    "    id=\"appealed\",\n",
    "    description=\"被上訴人相關資訊;例如:法定代理人,訴訟代理人,代表人...等等\",\n",
    "    attributes=[\n",
    "        Text(id=\"agent\", description=\"代理人\", many=True),\n",
    "        Text(id=\"appellee\", description=\"被上訴人\", examples=[(\"被告　臺北市交通事件裁決所\\n\", \"臺北市交通事件裁決所\"),\n",
    "                                                             (\"相對人　林佳璇\\n\", \"林佳璇\")], many=True),\n",
    "        Text(id=\"representative\", description=\"代表人\", examples=[(\"代表人　蘇福智\\n\", \"蘇福智\")], many=True),\n",
    "        Text(id=\"attorney\", description=\"訴訟代理人\", examples=[(\"訴訟代理人　黃郁軒\\n\", \"黃郁軒\")], many=True),\n",
    "        Text(id=\"reagent\", description=\"複代理人\", many=True),\n",
    "        Text(id=\"legal_representative\", description=\"法定代理人\", many=True),\n",
    "        Text(id=\"defender\", description=\"辯護人\", many=True),\n",
    "        Text(id=\"assistant\", description=\"輔佐人\", many=True)\n",
    "    ]\n",
    ")\n",
    "\n",
    "schema_part1_1 = Object(\n",
    "    id=\"judgment_info_part1\",\n",
    "    description=\"擷取分析裁判書的上半部分屬性值\",\n",
    "    attributes=[\n",
    "        Text(\n",
    "            id=\"title\",\n",
    "            description=\"這份裁判書的標題\",\n",
    "            examples=[(\"臺灣士林地方法院行政訴訟判決\\n\", \"臺灣士林地方法院行政訴訟判決\"),\n",
    "                      (\"司法院職務法庭裁定\\n\", \"司法院職務法庭裁定\"),\n",
    "                      (\"臺灣嘉義地方法院民事裁定\\n\", \"臺灣嘉義地方法院民事裁定\")],\n",
    "        ),\n",
    "        Text(\n",
    "            id=\"id\",\n",
    "            description=\"這份裁判書的編號\",\n",
    "            examples=[(\"111年度交字第35號\\n\", \"111年度交字第35號\"),\n",
    "                      (\"108年度懲再字第5號\\n\", \"108年度懲再字第5號\"),\n",
    "                      (\"111年度司票字第434號\\n\", \"111年度司票字第434號\")],\n",
    "        ),\n",
    "        appeal,\n",
    "        appealed,\n",
    "        Text(\n",
    "            id=\"foreword\",\n",
    "            description=\"這份裁判書的前言\",\n",
    "            examples=[(\"上列當事人間交通裁決事件，原告不服被告中華民國111年1月11\\n日北市裁催字第22-AC0000000號、第22-AC0000000號裁決，提起\\n行政訴訟，本院判決如下：\\n\", \"上列當事人間交通裁決事件，原告不服被告中華民國111年1月11日北市裁催字第22-AC0000000號、第22-AC0000000號裁決，提起行政訴訟，本院判決如下：\"),\n",
    "                      (\"上列聲請人因懲戒事件，對於本庭中華民國108年8月27日108年\\n度懲再字第1號裁定，聲請再審，本庭裁定如下：\", \"上列聲請人因懲戒事件，對於本庭中華民國108年8月27日108年度懲再字第1號裁定，聲請再審，本庭裁定如下：\"),\n",
    "                      (\"上列當事人間聲請對本票准許強制執行事件，本院裁定如下：\\n\", \"上列當事人間聲請對本票准許強制執行事件，本院裁定如下：\")],\n",
    "        ),\n",
    "        Text(\n",
    "            id=\"main_content\",\n",
    "            description=\"這份裁判書的主文\",\n",
    "            examples=[(\"主文\\n原告之訴駁回。\\n訴訟費用新臺幣參佰元由原告負擔。\\n\", \"原告之訴駁回。訴訟費用新臺幣參佰元由原告負擔。\"),\n",
    "                      (\"主文\\n再審之聲請駁回。\\n\", \"再審之聲請駁回。\"),\n",
    "                      (\"主文\\n相對人簽發如附表所示之本票金額及自附表所載利息起算日起至\\n清償日止按週年利率16%計算之利息，准予強制執行。\\n聲請程序費用新臺幣2,000元由相對人負擔。\",\"相對人簽發如附表所示之本票金額及自附表所載利息起算日起至清償日止按週年利率16%計算之利息，准予強制執行。聲請程序費用新臺幣2,000元由相對人負擔。\")],\n",
    "        )\n",
    "    ],\n",
    "    many=True\n",
    ")"
   ]
  },
  {
   "cell_type": "code",
   "execution_count": 30,
   "outputs": [
    {
     "name": "stdout",
     "output_type": "stream",
     "text": [
      "Your goal is to extract structured information from the user's input that matches the form described below. When extracting information please make sure it matches the type information exactly. Do not add any attributes that do not appear in the schema shown below.\n",
      "\n",
      "```TypeScript\n",
      "\n",
      "judgment_info_part1: Array<{ // 擷取分析裁判書的上半部分屬性值\n",
      " title: string // 這份裁判書的標題\n",
      " id: string // 這份裁判書的編號\n",
      " appeal: { // 上訴人相關資訊;例如:法定代理人,訴訟代理人,代表人...等等\n",
      "  agent: Array<string> // 代理人\n",
      "  appellant: Array<string> // 上訴人\n",
      "  representative: Array<string> // 代表人\n",
      "  attorney: Array<string> // 訴訟代理人\n",
      "  reagent: Array<string> // 複代理人\n",
      "  legal_representative: Array<string> // 法定代理人\n",
      "  defender: Array<string> // 辯護人\n",
      "  assistant: Array<string> // 輔佐人\n",
      " }\n",
      " appealed: { // 被上訴人相關資訊;例如:法定代理人,訴訟代理人,代表人...等等\n",
      "  agent: Array<string> // 代理人\n",
      "  appellee: Array<string> // 被上訴人\n",
      "  representative: Array<string> // 代表人\n",
      "  attorney: Array<string> // 訴訟代理人\n",
      "  reagent: Array<string> // 複代理人\n",
      "  legal_representative: Array<string> // 法定代理人\n",
      "  defender: Array<string> // 辯護人\n",
      "  assistant: Array<string> // 輔佐人\n",
      " }\n",
      " foreword: string // 這份裁判書的前言\n",
      " main_content: string // 這份裁判書的主文\n",
      "}>\n",
      "```\n",
      "\n",
      "\n",
      "Please output the extracted information in JSON format. Do not output anything except for the extracted information. Do not add any clarifying information. Do not add any fields that are not in the schema. If the text contains attributes that do not appear in the schema, please ignore them. All output must be in JSON format and follow the schema specified above. Wrap the JSON in <json> tags.\n",
      "\n",
      "\n",
      "\n",
      "Input: 臺灣士林地方法院行政訴訟判決\n",
      "\n",
      "Output: <json>{\"judgment_info_part1\": [{\"title\": \"\\u81fa\\u7063\\u58eb\\u6797\\u5730\\u65b9\\u6cd5\\u9662\\u884c\\u653f\\u8a34\\u8a1f\\u5224\\u6c7a\"}]}</json>\n",
      "Input: 司法院職務法庭裁定\n",
      "\n",
      "Output: <json>{\"judgment_info_part1\": [{\"title\": \"\\u53f8\\u6cd5\\u9662\\u8077\\u52d9\\u6cd5\\u5ead\\u88c1\\u5b9a\"}]}</json>\n",
      "Input: 臺灣嘉義地方法院民事裁定\n",
      "\n",
      "Output: <json>{\"judgment_info_part1\": [{\"title\": \"\\u81fa\\u7063\\u5609\\u7fa9\\u5730\\u65b9\\u6cd5\\u9662\\u6c11\\u4e8b\\u88c1\\u5b9a\"}]}</json>\n",
      "Input: 111年度交字第35號\n",
      "\n",
      "Output: <json>{\"judgment_info_part1\": [{\"id\": \"111\\u5e74\\u5ea6\\u4ea4\\u5b57\\u7b2c35\\u865f\"}]}</json>\n",
      "Input: 108年度懲再字第5號\n",
      "\n",
      "Output: <json>{\"judgment_info_part1\": [{\"id\": \"108\\u5e74\\u5ea6\\u61f2\\u518d\\u5b57\\u7b2c5\\u865f\"}]}</json>\n",
      "Input: 111年度司票字第434號\n",
      "\n",
      "Output: <json>{\"judgment_info_part1\": [{\"id\": \"111\\u5e74\\u5ea6\\u53f8\\u7968\\u5b57\\u7b2c434\\u865f\"}]}</json>\n",
      "Input: 原告　蔡宗甫\n",
      "\n",
      "Output: <json>{\"judgment_info_part1\": [{\"appeal\": {\"appellant\": [\"\\u8521\\u5b97\\u752b\"]}}]}</json>\n",
      "Input: 聲請人　陳鴻斌\n",
      "\n",
      "Output: <json>{\"judgment_info_part1\": [{\"appeal\": {\"appellant\": [\"\\u9673\\u9d3b\\u658c\"]}}]}</json>\n",
      "Input: 聲請人　新鑫股份有限公司\n",
      "\n",
      "Output: <json>{\"judgment_info_part1\": [{\"appeal\": {\"appellant\": [\"\\u65b0\\u946b\\u80a1\\u4efd\\u6709\\u9650\\u516c\\u53f8\"]}}]}</json>\n",
      "Input: 訴訟代理人　林虹妤\n",
      "\n",
      "Output: <json>{\"judgment_info_part1\": [{\"appeal\": {\"attorney\": [\"\\u6797\\u8679\\u59a4\"]}}]}</json>\n",
      "Input: 法定代理人　許國興\n",
      "\n",
      "Output: <json>{\"judgment_info_part1\": [{\"appeal\": {\"legal_representative\": [\"\\u8a31\\u570b\\u8208\"]}}]}</json>\n",
      "Input: 被告　臺北市交通事件裁決所\n",
      "\n",
      "Output: <json>{\"judgment_info_part1\": [{\"appealed\": {\"appellee\": [\"\\u81fa\\u5317\\u5e02\\u4ea4\\u901a\\u4e8b\\u4ef6\\u88c1\\u6c7a\\u6240\"]}}]}</json>\n",
      "Input: 相對人　林佳璇\n",
      "\n",
      "Output: <json>{\"judgment_info_part1\": [{\"appealed\": {\"appellee\": [\"\\u6797\\u4f73\\u7487\"]}}]}</json>\n",
      "Input: 代表人　蘇福智\n",
      "\n",
      "Output: <json>{\"judgment_info_part1\": [{\"appealed\": {\"representative\": [\"\\u8607\\u798f\\u667a\"]}}]}</json>\n",
      "Input: 訴訟代理人　黃郁軒\n",
      "\n",
      "Output: <json>{\"judgment_info_part1\": [{\"appealed\": {\"attorney\": [\"\\u9ec3\\u90c1\\u8ed2\"]}}]}</json>\n",
      "Input: 上列當事人間交通裁決事件，原告不服被告中華民國111年1月11\n",
      "日北市裁催字第22-AC0000000號、第22-AC0000000號裁決，提起\n",
      "行政訴訟，本院判決如下：\n",
      "\n",
      "Output: <json>{\"judgment_info_part1\": [{\"foreword\": \"\\u4e0a\\u5217\\u7576\\u4e8b\\u4eba\\u9593\\u4ea4\\u901a\\u88c1\\u6c7a\\u4e8b\\u4ef6\\uff0c\\u539f\\u544a\\u4e0d\\u670d\\u88ab\\u544a\\u4e2d\\u83ef\\u6c11\\u570b111\\u5e741\\u670811\\u65e5\\u5317\\u5e02\\u88c1\\u50ac\\u5b57\\u7b2c22-AC0000000\\u865f\\u3001\\u7b2c22-AC0000000\\u865f\\u88c1\\u6c7a\\uff0c\\u63d0\\u8d77\\u884c\\u653f\\u8a34\\u8a1f\\uff0c\\u672c\\u9662\\u5224\\u6c7a\\u5982\\u4e0b\\uff1a\"}]}</json>\n",
      "Input: 上列聲請人因懲戒事件，對於本庭中華民國108年8月27日108年\n",
      "度懲再字第1號裁定，聲請再審，本庭裁定如下：\n",
      "Output: <json>{\"judgment_info_part1\": [{\"foreword\": \"\\u4e0a\\u5217\\u8072\\u8acb\\u4eba\\u56e0\\u61f2\\u6212\\u4e8b\\u4ef6\\uff0c\\u5c0d\\u65bc\\u672c\\u5ead\\u4e2d\\u83ef\\u6c11\\u570b108\\u5e748\\u670827\\u65e5108\\u5e74\\u5ea6\\u61f2\\u518d\\u5b57\\u7b2c1\\u865f\\u88c1\\u5b9a\\uff0c\\u8072\\u8acb\\u518d\\u5be9\\uff0c\\u672c\\u5ead\\u88c1\\u5b9a\\u5982\\u4e0b\\uff1a\"}]}</json>\n",
      "Input: 上列當事人間聲請對本票准許強制執行事件，本院裁定如下：\n",
      "\n",
      "Output: <json>{\"judgment_info_part1\": [{\"foreword\": \"\\u4e0a\\u5217\\u7576\\u4e8b\\u4eba\\u9593\\u8072\\u8acb\\u5c0d\\u672c\\u7968\\u51c6\\u8a31\\u5f37\\u5236\\u57f7\\u884c\\u4e8b\\u4ef6\\uff0c\\u672c\\u9662\\u88c1\\u5b9a\\u5982\\u4e0b\\uff1a\"}]}</json>\n",
      "Input: 主文\n",
      "原告之訴駁回。\n",
      "訴訟費用新臺幣參佰元由原告負擔。\n",
      "\n",
      "Output: <json>{\"judgment_info_part1\": [{\"main_content\": \"\\u539f\\u544a\\u4e4b\\u8a34\\u99c1\\u56de\\u3002\\u8a34\\u8a1f\\u8cbb\\u7528\\u65b0\\u81fa\\u5e63\\u53c3\\u4f70\\u5143\\u7531\\u539f\\u544a\\u8ca0\\u64d4\\u3002\"}]}</json>\n",
      "Input: 主文\n",
      "再審之聲請駁回。\n",
      "\n",
      "Output: <json>{\"judgment_info_part1\": [{\"main_content\": \"\\u518d\\u5be9\\u4e4b\\u8072\\u8acb\\u99c1\\u56de\\u3002\"}]}</json>\n",
      "Input: 主文\n",
      "相對人簽發如附表所示之本票金額及自附表所載利息起算日起至\n",
      "清償日止按週年利率16%計算之利息，准予強制執行。\n",
      "聲請程序費用新臺幣2,000元由相對人負擔。\n",
      "Output: <json>{\"judgment_info_part1\": [{\"main_content\": \"\\u76f8\\u5c0d\\u4eba\\u7c3d\\u767c\\u5982\\u9644\\u8868\\u6240\\u793a\\u4e4b\\u672c\\u7968\\u91d1\\u984d\\u53ca\\u81ea\\u9644\\u8868\\u6240\\u8f09\\u5229\\u606f\\u8d77\\u7b97\\u65e5\\u8d77\\u81f3\\u6e05\\u511f\\u65e5\\u6b62\\u6309\\u9031\\u5e74\\u5229\\u738716%\\u8a08\\u7b97\\u4e4b\\u5229\\u606f\\uff0c\\u51c6\\u4e88\\u5f37\\u5236\\u57f7\\u884c\\u3002\\u8072\\u8acb\\u7a0b\\u5e8f\\u8cbb\\u7528\\u65b0\\u81fa\\u5e632,000\\u5143\\u7531\\u76f8\\u5c0d\\u4eba\\u8ca0\\u64d4\\u3002\"}]}</json>\n",
      "Input: [user input]\n",
      "Output:\n"
     ]
    }
   ],
   "source": [
    "chain_part1 = create_extraction_chain(llm, schema_part1_1, encoder_or_encoder_class=\"JSON\", input_formatter=None)\n",
    "print(chain_part1.prompt.format_prompt(\"[user input]\").to_string())\n"
   ],
   "metadata": {
    "collapsed": false,
    "pycharm": {
     "name": "#%%\n"
    }
   }
  },
  {
   "cell_type": "code",
   "execution_count": 31,
   "outputs": [
    {
     "name": "stdout",
     "output_type": "stream",
     "text": [
      "131\n"
     ]
    }
   ],
   "source": [
    "pdf_text = \"公務員懲戒委員會裁定\\n\" \\\n",
    "       \"102年度清字第11347號\\n\" \\\n",
    "       \"移送機關　內政部　設臺北市○○區○○路○號\\n\" \\\n",
    "       \"代表人　徐國勇　住同上\\n\" \\\n",
    "       \"被付懲戒人　陳仁維　臺東縣警察局警務員\\n\" \\\n",
    "       \"上列被付懲戒人因違法失職案件，經內政部移送審理，本會裁定\\n\"\\\n",
    "       \"如下：\\n\"\\\n",
    "       \"主文\\n\"\\\n",
    "       \"本件停止審議程序之議決撤銷。\\n\"\n",
    "print(len(pdf_text))\n"
   ],
   "metadata": {
    "collapsed": false,
    "pycharm": {
     "name": "#%%\n"
    }
   }
  },
  {
   "cell_type": "code",
   "execution_count": 33,
   "outputs": [
    {
     "name": "stdout",
     "output_type": "stream",
     "text": [
      "Output: {'judgment_info_part1': [{'title': '公務品懲委員會裁定'}, {'id': '102年度清字第11347號'}, {'appeal': {'representative': ['徐國勱'], 'agent': ['徐國勱']}}, {'appealed': {'appellee': ['陳仁維'], 'agent': ['臺東縣警察局警務員']}}, {'foreword': '上列被付懲房回人因運法失聊案件事，經內政部移送审理，本會裁定如下：'}, {'main_content': '本件停止審議程序之議決撤銷。'}]}\n",
      "Total Tokens: 3506\n",
      "Prompt Tokens: 3134\n",
      "Completion Tokens: 372\n",
      "Successful Requests: 1\n",
      "Total Cost (USD): $0.007012\n"
     ]
    }
   ],
   "source": [
    "from langchain.callbacks import get_openai_callback\n",
    "with get_openai_callback() as cb:\n",
    "    document_extraction_results = chain_part1.predict_and_parse(text=pdf_text)\n",
    "    print(f\"Output: {document_extraction_results.get('data')}\")\n",
    "    print(f\"Total Tokens: {cb.total_tokens}\")\n",
    "    print(f\"Prompt Tokens: {cb.prompt_tokens}\")\n",
    "    print(f\"Completion Tokens: {cb.completion_tokens}\")\n",
    "    print(f\"Successful Requests: {cb.successful_requests}\")\n",
    "    print(f\"Total Cost (USD): ${cb.total_cost}\")\n"
   ],
   "metadata": {
    "collapsed": false,
    "pycharm": {
     "name": "#%%\n"
    }
   }
  }
 ],
 "metadata": {
  "celltoolbar": "Raw Cell Format",
  "kernelspec": {
   "display_name": "PyCharm (pdf-extraction)",
   "language": "python",
   "name": "pycharm-aa15afaf"
  },
  "language_info": {
   "codemirror_mode": {
    "name": "ipython",
    "version": 3
   },
   "file_extension": ".py",
   "mimetype": "text/x-python",
   "name": "python",
   "nbconvert_exporter": "python",
   "pygments_lexer": "ipython3",
   "version": "3.8.10"
  }
 },
 "nbformat": 4,
 "nbformat_minor": 1
}