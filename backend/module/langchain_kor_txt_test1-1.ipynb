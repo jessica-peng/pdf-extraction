{
 "cells": [
  {
   "cell_type": "code",
   "execution_count": null,
   "metadata": {},
   "outputs": [],
   "source": [
    "#!pip install langchain\n",
    "from langchain.text_splitter import CharacterTextSplitter\n",
    "!python --version"
   ]
  },
  {
   "cell_type": "code",
   "execution_count": null,
   "metadata": {
    "pycharm": {
     "name": "#%%\n"
    }
   },
   "outputs": [],
   "source": [
    "# import openai\n",
    "# openai.Model.list()"
   ]
  },
  {
   "cell_type": "markdown",
   "metadata": {},
   "source": [
    "Read OPENAI API KEY"
   ]
  },
  {
   "cell_type": "code",
   "execution_count": 4,
   "metadata": {
    "pycharm": {
     "name": "#%%\n"
    }
   },
   "outputs": [
    {
     "ename": "ImportError",
     "evalue": "cannot import name 'BaseLanguageModel' from 'langchain.schema' (C:\\Users\\jessi\\OneDrive\\School\\lab\\Data Extraction from PDF\\code\\pdf-extraction\\venv2\\lib\\site-packages\\langchain\\schema.py)",
     "output_type": "error",
     "traceback": [
      "\u001B[1;31m---------------------------------------------------------------------------\u001B[0m",
      "\u001B[1;31mImportError\u001B[0m                               Traceback (most recent call last)",
      "Cell \u001B[1;32mIn[4], line 2\u001B[0m\n\u001B[0;32m      1\u001B[0m \u001B[38;5;28;01mfrom\u001B[39;00m \u001B[38;5;21;01mlangchain\u001B[39;00m\u001B[38;5;21;01m.\u001B[39;00m\u001B[38;5;21;01mchat_models\u001B[39;00m \u001B[38;5;28;01mimport\u001B[39;00m ChatOpenAI\n\u001B[1;32m----> 2\u001B[0m \u001B[38;5;28;01mfrom\u001B[39;00m \u001B[38;5;21;01mkor\u001B[39;00m \u001B[38;5;28;01mimport\u001B[39;00m create_extraction_chain, Object, Text, Number, extract_from_documents\n\u001B[0;32m      4\u001B[0m \u001B[38;5;28;01mwith\u001B[39;00m \u001B[38;5;28mopen\u001B[39m(\u001B[38;5;124m\"\u001B[39m\u001B[38;5;124mAPI_KEY\u001B[39m\u001B[38;5;124m\"\u001B[39m, \u001B[38;5;124m\"\u001B[39m\u001B[38;5;124mr\u001B[39m\u001B[38;5;124m\"\u001B[39m, encoding\u001B[38;5;241m=\u001B[39m\u001B[38;5;124m\"\u001B[39m\u001B[38;5;124mutf-8\u001B[39m\u001B[38;5;124m\"\u001B[39m) \u001B[38;5;28;01mas\u001B[39;00m f:\n\u001B[0;32m      5\u001B[0m     key \u001B[38;5;241m=\u001B[39m f\u001B[38;5;241m.\u001B[39mread()\n",
      "File \u001B[1;32m~\\OneDrive\\School\\lab\\Data Extraction from PDF\\code\\pdf-extraction\\venv2\\lib\\site-packages\\kor\\__init__.py:3\u001B[0m\n\u001B[0;32m      1\u001B[0m \u001B[38;5;28;01mfrom\u001B[39;00m \u001B[38;5;21;01m.\u001B[39;00m\u001B[38;5;21;01madapters\u001B[39;00m \u001B[38;5;28;01mimport\u001B[39;00m from_pydantic\n\u001B[0;32m      2\u001B[0m \u001B[38;5;28;01mfrom\u001B[39;00m \u001B[38;5;21;01m.\u001B[39;00m\u001B[38;5;21;01mencoders\u001B[39;00m \u001B[38;5;28;01mimport\u001B[39;00m CSVEncoder, JSONEncoder, XMLEncoder\n\u001B[1;32m----> 3\u001B[0m \u001B[38;5;28;01mfrom\u001B[39;00m \u001B[38;5;21;01m.\u001B[39;00m\u001B[38;5;21;01mextraction\u001B[39;00m \u001B[38;5;28;01mimport\u001B[39;00m (\n\u001B[0;32m      4\u001B[0m     DocumentExtraction,\n\u001B[0;32m      5\u001B[0m     Extraction,\n\u001B[0;32m      6\u001B[0m     create_extraction_chain,\n\u001B[0;32m      7\u001B[0m     extract_from_documents,\n\u001B[0;32m      8\u001B[0m )\n\u001B[0;32m      9\u001B[0m \u001B[38;5;28;01mfrom\u001B[39;00m \u001B[38;5;21;01m.\u001B[39;00m\u001B[38;5;21;01mnodes\u001B[39;00m \u001B[38;5;28;01mimport\u001B[39;00m Number, Object, Option, Selection, Text\n\u001B[0;32m     10\u001B[0m \u001B[38;5;28;01mfrom\u001B[39;00m \u001B[38;5;21;01m.\u001B[39;00m\u001B[38;5;21;01mtype_descriptors\u001B[39;00m \u001B[38;5;28;01mimport\u001B[39;00m (\n\u001B[0;32m     11\u001B[0m     BulletPointDescriptor,\n\u001B[0;32m     12\u001B[0m     TypeDescriptor,\n\u001B[0;32m     13\u001B[0m     TypeScriptDescriptor,\n\u001B[0;32m     14\u001B[0m )\n",
      "File \u001B[1;32m~\\OneDrive\\School\\lab\\Data Extraction from PDF\\code\\pdf-extraction\\venv2\\lib\\site-packages\\kor\\extraction\\__init__.py:1\u001B[0m\n\u001B[1;32m----> 1\u001B[0m \u001B[38;5;28;01mfrom\u001B[39;00m \u001B[38;5;21;01mkor\u001B[39;00m\u001B[38;5;21;01m.\u001B[39;00m\u001B[38;5;21;01mextraction\u001B[39;00m\u001B[38;5;21;01m.\u001B[39;00m\u001B[38;5;21;01mapi\u001B[39;00m \u001B[38;5;28;01mimport\u001B[39;00m create_extraction_chain, extract_from_documents\n\u001B[0;32m      2\u001B[0m \u001B[38;5;28;01mfrom\u001B[39;00m \u001B[38;5;21;01mkor\u001B[39;00m\u001B[38;5;21;01m.\u001B[39;00m\u001B[38;5;21;01mextraction\u001B[39;00m\u001B[38;5;21;01m.\u001B[39;00m\u001B[38;5;21;01mparser\u001B[39;00m \u001B[38;5;28;01mimport\u001B[39;00m KorParser\n\u001B[0;32m      3\u001B[0m \u001B[38;5;28;01mfrom\u001B[39;00m \u001B[38;5;21;01mkor\u001B[39;00m\u001B[38;5;21;01m.\u001B[39;00m\u001B[38;5;21;01mextraction\u001B[39;00m\u001B[38;5;21;01m.\u001B[39;00m\u001B[38;5;21;01mtypedefs\u001B[39;00m \u001B[38;5;28;01mimport\u001B[39;00m DocumentExtraction, Extraction\n",
      "File \u001B[1;32m~\\OneDrive\\School\\lab\\Data Extraction from PDF\\code\\pdf-extraction\\venv2\\lib\\site-packages\\kor\\extraction\\api.py:8\u001B[0m\n\u001B[0;32m      6\u001B[0m \u001B[38;5;28;01mfrom\u001B[39;00m \u001B[38;5;21;01mlangchain\u001B[39;00m\u001B[38;5;21;01m.\u001B[39;00m\u001B[38;5;21;01mchains\u001B[39;00m \u001B[38;5;28;01mimport\u001B[39;00m LLMChain\n\u001B[0;32m      7\u001B[0m \u001B[38;5;28;01mfrom\u001B[39;00m \u001B[38;5;21;01mlangchain\u001B[39;00m\u001B[38;5;21;01m.\u001B[39;00m\u001B[38;5;21;01mdocstore\u001B[39;00m\u001B[38;5;21;01m.\u001B[39;00m\u001B[38;5;21;01mdocument\u001B[39;00m \u001B[38;5;28;01mimport\u001B[39;00m Document\n\u001B[1;32m----> 8\u001B[0m \u001B[38;5;28;01mfrom\u001B[39;00m \u001B[38;5;21;01mlangchain\u001B[39;00m\u001B[38;5;21;01m.\u001B[39;00m\u001B[38;5;21;01mschema\u001B[39;00m \u001B[38;5;28;01mimport\u001B[39;00m BaseLanguageModel\n\u001B[0;32m     10\u001B[0m \u001B[38;5;28;01mfrom\u001B[39;00m \u001B[38;5;21;01mkor\u001B[39;00m\u001B[38;5;21;01m.\u001B[39;00m\u001B[38;5;21;01mencoders\u001B[39;00m \u001B[38;5;28;01mimport\u001B[39;00m Encoder, InputFormatter, initialize_encoder\n\u001B[0;32m     11\u001B[0m \u001B[38;5;28;01mfrom\u001B[39;00m \u001B[38;5;21;01mkor\u001B[39;00m\u001B[38;5;21;01m.\u001B[39;00m\u001B[38;5;21;01mextraction\u001B[39;00m\u001B[38;5;21;01m.\u001B[39;00m\u001B[38;5;21;01mtypedefs\u001B[39;00m \u001B[38;5;28;01mimport\u001B[39;00m DocumentExtraction, Extraction\n",
      "\u001B[1;31mImportError\u001B[0m: cannot import name 'BaseLanguageModel' from 'langchain.schema' (C:\\Users\\jessi\\OneDrive\\School\\lab\\Data Extraction from PDF\\code\\pdf-extraction\\venv2\\lib\\site-packages\\langchain\\schema.py)"
     ]
    }
   ],
   "source": [
    "from langchain.chat_models import ChatOpenAI\n",
    "from kor import create_extraction_chain, Object, Text, Number, extract_from_documents\n",
    "\n",
    "with open(\"API_KEY\", \"r\", encoding=\"utf-8\") as f:\n",
    "    key = f.read()"
   ]
  },
  {
   "cell_type": "markdown",
   "metadata": {
    "pycharm": {
     "name": "#%% md\n"
    }
   },
   "source": [
    "Generate LengChain\n",
    "Instantiate a langchain LLM and create a chain."
   ]
  },
  {
   "cell_type": "code",
   "execution_count": null,
   "metadata": {
    "pycharm": {
     "name": "#%%\n"
    }
   },
   "outputs": [],
   "source": [
    "llm = ChatOpenAI(\n",
    "    model_name=\"gpt-3.5-turbo\",\n",
    "    temperature=0,\n",
    "    max_tokens=1500,\n",
    "    openai_api_key=key\n",
    ")"
   ]
  },
  {
   "cell_type": "markdown",
   "metadata": {},
   "source": [
    "create schema for some category of pdf file"
   ]
  },
  {
   "cell_type": "code",
   "execution_count": null,
   "metadata": {},
   "outputs": [],
   "source": [
    "appeal = Object(\n",
    "    id=\"appeal\",\n",
    "    description=\"上訴人相關資訊;例如:法定代理人,訴訟代理人,代表人...等等\",\n",
    "    attributes=[\n",
    "        Text(id=\"agent\", description=\"代理人\", many=True),\n",
    "        Text(id=\"appellant\", description=\"上訴人\", examples=[(\"111年度交字第35號\\n原告　蔡宗甫\\n訴訟代理人　林虹妤\\n\", \"蔡宗甫\")], many=True),\n",
    "        Text(id=\"representative\", description=\"代表人\", many=True),\n",
    "        Text(id=\"attorney\", description=\"訴訟代理人\", examples=[(\"原告　蔡宗甫\\n訴訟代理人　林虹妤\\n被告　臺北市交通事件裁決所\\n\", \"林虹妤\")], many=True),\n",
    "        Text(id=\"reagent\", description=\"複代理人\", many=True),\n",
    "        Text(id=\"legal_representative\", description=\"法定代理人\", many=True),\n",
    "        Text(id=\"defender\", description=\"辯護人\", many=True),\n",
    "        Text(id=\"assistant\", description=\"輔佐人\", many=True)\n",
    "    ]\n",
    ")\n",
    "\n",
    "appealed = Object(\n",
    "    id=\"appealed\",\n",
    "    description=\"被上訴人相關資訊;例如:法定代理人,訴訟代理人,代表人...等等\",\n",
    "    attributes=[\n",
    "        Text(id=\"agent\", description=\"代理人\", many=True),\n",
    "        Text(id=\"appellee\", description=\"被上訴人\", examples=[(\"訴訟代理人　林虹妤\\n被告　臺北市交通事件裁決所\\n代表人　蘇福智\\n\", \"臺北市交通事件裁決所\")], many=True),\n",
    "        Text(id=\"representative\", description=\"代表人\", examples=[(\"被告　臺北市交通事件裁決所\\n代表人　蘇福智\\n訴訟代理人　黃郁軒\\n\", \"蘇福智\")], many=True),\n",
    "        Text(id=\"attorney\", description=\"訴訟代理人\", examples=[(\"代表人　蘇福智\\n訴訟代理人　黃郁軒\\n上列當事人間交通裁決事件，原告不服被告中華民國111年1月11\\n\", \"黃郁軒\")], many=True),\n",
    "        Text(id=\"reagent\", description=\"複代理人\", many=True),\n",
    "        Text(id=\"legal_representative\", description=\"法定代理人\", many=True),\n",
    "        Text(id=\"defender\", description=\"辯護人\", many=True),\n",
    "        Text(id=\"assistant\", description=\"輔佐人\", many=True)\n",
    "    ]\n",
    ")\n",
    "\n",
    "schema_part1_1 = Object(\n",
    "    id=\"judgment_info_part1\",\n",
    "    description=\"擷取分析裁判書的上半部分屬性值\",\n",
    "    attributes=[\n",
    "        Text(\n",
    "            id=\"title\",\n",
    "            description=\"這份裁判書的標題\",\n",
    "            examples=[(\"臺灣士林地方法院行政訴訟判決\\n111年度交字第35號\\n\", \"臺灣士林地方法院行政訴訟判決\")],\n",
    "        ),\n",
    "        Text(\n",
    "            id=\"id\",\n",
    "            description=\"這份裁判書的編號\",\n",
    "            examples=[(\"臺灣士林地方法院行政訴訟判決\\n111年度交字第35號\\n原告　蔡宗甫\\n\", \"111年度交字第35號\")],\n",
    "        ),\n",
    "        appeal,\n",
    "        appealed,\n",
    "        Text(\n",
    "            id=\"foreword\",\n",
    "            description=\"這份裁判書的前言\",\n",
    "            examples=[(\"訴訟代理人　黃郁軒\\n上列當事人間交通裁決事件，原告不服被告中華民國111年1月11\\n日北市裁催字第22-AC0000000號、第22-AC0000000號裁決，提起\\n行政訴訟，本院判決如下：\\n主文\\n\", \"上列當事人間交通裁決事件，原告不服被告中華民國111年1月11日北市裁催字第22-AC0000000號、第22-AC0000000號裁決，提起行政訴訟，本院判決如下：\")],\n",
    "        ),\n",
    "        Text(\n",
    "            id=\"main_content\",\n",
    "            description=\"這份裁判書的主文\",\n",
    "            examples=[(\"行政訴訟，本院判決如下：\\n主文\\n原告之訴駁回。\\n訴訟費用新臺幣參佰元由原告負擔。\\n事實及理由\\n\", \"原告之訴駁回。訴訟費用新臺幣參佰元由原告負擔。\")],\n",
    "        )\n",
    "    ],\n",
    "    many=True\n",
    ")"
   ]
  },
  {
   "cell_type": "code",
   "execution_count": null,
   "outputs": [],
   "source": [
    "chain_part1 = create_extraction_chain(llm, schema_part1_1, encoder_or_encoder_class=\"JSON\", input_formatter=None)\n",
    "print(chain_part1.prompt.format_prompt(\"[user input]\").to_string())\n"
   ],
   "metadata": {
    "collapsed": false,
    "pycharm": {
     "name": "#%%\n"
    }
   }
  },
  {
   "cell_type": "code",
   "execution_count": null,
   "outputs": [],
   "source": [
    "pdf_text = \"公務員懲戒委員會裁定\\n\" \\\n",
    "       \"102年度清字第11347號\\n\" \\\n",
    "       \"移送機關　內政部　設臺北市○○區○○路○號\\n\" \\\n",
    "       \"代表人　徐國勇　住同上\\n\" \\\n",
    "       \"被付懲戒人　陳仁維　臺東縣警察局警務員\\n\" \\\n",
    "       \"上列被付懲戒人因違法失職案件，經內政部移送審理，本會裁定\\n\"\\\n",
    "       \"如下：\\n\"\\\n",
    "       \"主文\\n\"\\\n",
    "       \"本件停止審議程序之議決撤銷。\\n\"\n",
    "print(len(pdf_text))\n"
   ],
   "metadata": {
    "collapsed": false,
    "pycharm": {
     "name": "#%%\n"
    }
   }
  },
  {
   "cell_type": "code",
   "execution_count": null,
   "outputs": [],
   "source": [
    "from langchain.callbacks import get_openai_callback\n",
    "with get_openai_callback() as cb:\n",
    "    document_extraction_results = chain_part1.predict_and_parse(text=pdf_text)\n",
    "    print(f\"Output: {document_extraction_results.get('data')}\")\n",
    "    print(f\"Total Tokens: {cb.total_tokens}\")\n",
    "    print(f\"Prompt Tokens: {cb.prompt_tokens}\")\n",
    "    print(f\"Completion Tokens: {cb.completion_tokens}\")\n",
    "    print(f\"Successful Requests: {cb.successful_requests}\")\n",
    "    print(f\"Total Cost (USD): ${cb.total_cost}\")\n"
   ],
   "metadata": {
    "collapsed": false,
    "pycharm": {
     "name": "#%%\n"
    }
   }
  }
 ],
 "metadata": {
  "celltoolbar": "Raw Cell Format",
  "kernelspec": {
   "display_name": "PyCharm (pdf-extraction)",
   "language": "python",
   "name": "pycharm-aa15afaf"
  },
  "language_info": {
   "codemirror_mode": {
    "name": "ipython",
    "version": 3
   },
   "file_extension": ".py",
   "mimetype": "text/x-python",
   "name": "python",
   "nbconvert_exporter": "python",
   "pygments_lexer": "ipython3",
   "version": "3.8.10"
  }
 },
 "nbformat": 4,
 "nbformat_minor": 1
}