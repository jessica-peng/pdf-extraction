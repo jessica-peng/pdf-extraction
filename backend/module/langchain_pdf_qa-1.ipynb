{
 "cells": [
  {
   "cell_type": "code",
   "execution_count": 42,
   "metadata": {
    "collapsed": true
   },
   "outputs": [
    {
     "name": "stdout",
     "output_type": "stream",
     "text": [
      "C:\\Users\\jessi\\OneDrive\\School\\lab\\Data Extraction from PDF\\code\\pdf-extraction\\backend\\module\n"
     ]
    }
   ],
   "source": [
    "import os\n",
    "import re\n",
    "import fitz\n",
    "print(os.getcwd())"
   ]
  },
  {
   "cell_type": "code",
   "execution_count": 43,
   "outputs": [
    {
     "name": "stdout",
     "output_type": "stream",
     "text": [
      "../data/demo/2c7d75bb5c074aff8a5e1a24c628bf39/test/公務員懲戒委員會102年度清字第11347號公懲裁定.pdf\n"
     ]
    },
    {
     "data": {
      "text/plain": "627"
     },
     "execution_count": 43,
     "metadata": {},
     "output_type": "execute_result"
    }
   ],
   "source": [
    "pdfFile = '../data/demo/2c7d75bb5c074aff8a5e1a24c628bf39/test/公務員懲戒委員會102年度清字第11347號公懲裁定.pdf'\n",
    "pdf_text = ''\n",
    "if os.path.exists(pdfFile):\n",
    "    print(pdfFile)\n",
    "    with fitz.open(pdfFile) as pdf:\n",
    "        for page in pdf:\n",
    "            pdf_text = pdf_text + page.get_text(\"text\")\n",
    "else:\n",
    "    print('File is not exist!')\n",
    "\n",
    "new_pdf_text = re.sub(r'^(\\s\\s|)[0-9][0-9]+\\n', '', pdf_text)\n",
    "new_pdf_text = re.sub(r'[１-９]+\\n', '', new_pdf_text)\n",
    "new_pdf_text = re.sub(r'[0-9]+\\n', '', new_pdf_text)\n",
    "new_pdf_text = re.sub(r' ', '', new_pdf_text)\n",
    "new_pdf_text = re.sub(r'^　', '', new_pdf_text)\n",
    "new_pdf_text = re.sub(r'^\\n', '', new_pdf_text)\n",
    "# print(new_pdf_text)\n",
    "pdf_text = new_pdf_text\n",
    "len(pdf_text)\n",
    "# print(pdf_text)"
   ],
   "metadata": {
    "collapsed": false,
    "pycharm": {
     "name": "#%%\n"
    }
   }
  },
  {
   "cell_type": "code",
   "execution_count": 44,
   "outputs": [
    {
     "data": {
      "text/plain": "1"
     },
     "execution_count": 44,
     "metadata": {},
     "output_type": "execute_result"
    }
   ],
   "source": [
    "from langchain.embeddings.openai import OpenAIEmbeddings\n",
    "from langchain.text_splitter import CharacterTextSplitter\n",
    "from langchain.vectorstores import FAISS\n",
    "\n",
    "text_splitter = CharacterTextSplitter(\n",
    "    separator = \"\\n\",\n",
    "    chunk_size = 1500,\n",
    "    chunk_overlap  = 200,\n",
    "    length_function = len,\n",
    ")\n",
    "texts = text_splitter.split_text(pdf_text)\n",
    "len(texts)"
   ],
   "metadata": {
    "collapsed": false,
    "pycharm": {
     "name": "#%%\n"
    }
   }
  },
  {
   "cell_type": "code",
   "execution_count": 45,
   "outputs": [
    {
     "data": {
      "text/plain": "'公務員懲戒委員會裁定\\n\\u3000\\n102年度清字第11347號\\n移送機關\\u3000內政部\\u3000\\u3000設臺北市○○區○○路○號\\n代\\u3000表\\u3000人\\u3000徐國勇\\u3000\\u3000住同上\\n被付懲戒人\\u3000陳仁維\\u3000\\u3000臺東縣警察局警務員\\n上列被付懲戒人因違法失職案件，經內政部移送審理，本會裁定\\n如下：\\n主文\\n本件停止審議程序之議決撤銷。\\n理由\\n一、按公務員懲戒法中華民國104年5月1日修正之條文施行前已\\n繫屬於公務員懲戒委員會之懲戒案件尚未終結者，於該法修\\n正施行後，由公務員懲戒委員會合議庭依修正後之程序規定\\n繼續審理。但修正施行前已依法進行之程序，其效力不受影\\n響。為該法第77條第1款所明定。又停止審理程序之裁定，\\n公務員懲戒委員會合議庭得依聲請或依職權撤銷之。同法第\\n39條第2項定有明文。\\n二、本件被付懲戒人陳仁維因違法失職案件應否受懲戒處分及處\\n分之輕重，同一行為涉及刑事部分，以其犯罪是否成立為斷\\n，前經本會於102年3月15日議決於刑事裁判確定前，停止審\\n議程序在案。經查被付懲戒人所涉刑事案件，業經臺灣高等\\n法院花蓮分院以106年度重上更�字第17號判決在案，此有\\n該判決書在卷可稽。依上開說明，本會合議庭自得依職權將\\n原停止審議程序之議決撤銷，繼續審理程序。\\n三、依公務員懲戒法第39條第2項，裁定如主文。\\n中華民國108年9月11日\\n公務員懲戒委員會第二庭\\n審判長委員姜仁脩\\n委員吳景源\\n委員洪佳濱\\n委員吳謀焰\\n委員蘇振堂\\n以上正本證明與原本無異。\\n中華民國108年9月12日\\n書記官黃紋麗'"
     },
     "execution_count": 45,
     "metadata": {},
     "output_type": "execute_result"
    }
   ],
   "source": [
    "# len(texts[0])\n",
    "texts[0]"
   ],
   "metadata": {
    "collapsed": false,
    "pycharm": {
     "name": "#%%\n"
    }
   }
  },
  {
   "cell_type": "code",
   "execution_count": null,
   "outputs": [],
   "source": [
    "# len(texts[1])\n",
    "texts[1]"
   ],
   "metadata": {
    "collapsed": false,
    "pycharm": {
     "name": "#%%\n"
    }
   }
  },
  {
   "cell_type": "code",
   "execution_count": 1,
   "outputs": [
    {
     "ename": "FileNotFoundError",
     "evalue": "[Errno 2] No such file or directory: 'API_KEY'",
     "output_type": "error",
     "traceback": [
      "\u001B[1;31m---------------------------------------------------------------------------\u001B[0m",
      "\u001B[1;31mFileNotFoundError\u001B[0m                         Traceback (most recent call last)",
      "Cell \u001B[1;32mIn[1], line 1\u001B[0m\n\u001B[1;32m----> 1\u001B[0m \u001B[38;5;28;01mwith\u001B[39;00m \u001B[38;5;28;43mopen\u001B[39;49m\u001B[43m(\u001B[49m\u001B[38;5;124;43m\"\u001B[39;49m\u001B[38;5;124;43mAPI_KEY\u001B[39;49m\u001B[38;5;124;43m\"\u001B[39;49m\u001B[43m,\u001B[49m\u001B[43m \u001B[49m\u001B[38;5;124;43m\"\u001B[39;49m\u001B[38;5;124;43mr\u001B[39;49m\u001B[38;5;124;43m\"\u001B[39;49m\u001B[43m,\u001B[49m\u001B[43m \u001B[49m\u001B[43mencoding\u001B[49m\u001B[38;5;241;43m=\u001B[39;49m\u001B[38;5;124;43m\"\u001B[39;49m\u001B[38;5;124;43mutf-8\u001B[39;49m\u001B[38;5;124;43m\"\u001B[39;49m\u001B[43m)\u001B[49m \u001B[38;5;28;01mas\u001B[39;00m f:\n\u001B[0;32m      2\u001B[0m     key \u001B[38;5;241m=\u001B[39m f\u001B[38;5;241m.\u001B[39mread()\n",
      "File \u001B[1;32m~\\OneDrive\\School\\lab\\Data Extraction from PDF\\code\\pdf-extraction\\venv2\\lib\\site-packages\\IPython\\core\\interactiveshell.py:284\u001B[0m, in \u001B[0;36m_modified_open\u001B[1;34m(file, *args, **kwargs)\u001B[0m\n\u001B[0;32m    277\u001B[0m \u001B[38;5;28;01mif\u001B[39;00m file \u001B[38;5;129;01min\u001B[39;00m {\u001B[38;5;241m0\u001B[39m, \u001B[38;5;241m1\u001B[39m, \u001B[38;5;241m2\u001B[39m}:\n\u001B[0;32m    278\u001B[0m     \u001B[38;5;28;01mraise\u001B[39;00m \u001B[38;5;167;01mValueError\u001B[39;00m(\n\u001B[0;32m    279\u001B[0m         \u001B[38;5;124mf\u001B[39m\u001B[38;5;124m\"\u001B[39m\u001B[38;5;124mIPython won\u001B[39m\u001B[38;5;124m'\u001B[39m\u001B[38;5;124mt let you open fd=\u001B[39m\u001B[38;5;132;01m{\u001B[39;00mfile\u001B[38;5;132;01m}\u001B[39;00m\u001B[38;5;124m by default \u001B[39m\u001B[38;5;124m\"\u001B[39m\n\u001B[0;32m    280\u001B[0m         \u001B[38;5;124m\"\u001B[39m\u001B[38;5;124mas it is likely to crash IPython. If you know what you are doing, \u001B[39m\u001B[38;5;124m\"\u001B[39m\n\u001B[0;32m    281\u001B[0m         \u001B[38;5;124m\"\u001B[39m\u001B[38;5;124myou can use builtins\u001B[39m\u001B[38;5;124m'\u001B[39m\u001B[38;5;124m open.\u001B[39m\u001B[38;5;124m\"\u001B[39m\n\u001B[0;32m    282\u001B[0m     )\n\u001B[1;32m--> 284\u001B[0m \u001B[38;5;28;01mreturn\u001B[39;00m \u001B[43mio_open\u001B[49m\u001B[43m(\u001B[49m\u001B[43mfile\u001B[49m\u001B[43m,\u001B[49m\u001B[43m \u001B[49m\u001B[38;5;241;43m*\u001B[39;49m\u001B[43margs\u001B[49m\u001B[43m,\u001B[49m\u001B[43m \u001B[49m\u001B[38;5;241;43m*\u001B[39;49m\u001B[38;5;241;43m*\u001B[39;49m\u001B[43mkwargs\u001B[49m\u001B[43m)\u001B[49m\n",
      "\u001B[1;31mFileNotFoundError\u001B[0m: [Errno 2] No such file or directory: 'API_KEY'"
     ]
    }
   ],
   "source": [
    "with open(\"API_KEY\", \"r\", encoding=\"utf-8\") as f:\n",
    "    key = f.read()"
   ],
   "metadata": {
    "collapsed": false,
    "pycharm": {
     "name": "#%%\n"
    }
   }
  },
  {
   "cell_type": "code",
   "execution_count": 47,
   "outputs": [],
   "source": [
    "# Download embeddings from OpenAI\n",
    "embeddings = OpenAIEmbeddings(openai_api_key=key)\n",
    "docsearch = FAISS.from_texts(texts, embeddings)"
   ],
   "metadata": {
    "collapsed": false,
    "pycharm": {
     "name": "#%%\n"
    }
   }
  },
  {
   "cell_type": "code",
   "execution_count": 48,
   "outputs": [],
   "source": [
    "from langchain.chains.question_answering import load_qa_chain\n",
    "from langchain.chat_models import ChatOpenAI\n",
    "from langchain.callbacks import get_openai_callback\n",
    "from langchain.prompts import PromptTemplate\n",
    "\n",
    "prompt_template = \"\"\"使用PDF文件的上下文來回答問題，不知道答案就說不知道，或者在文件中找不到答案，請不要試圖編答案\n",
    "\n",
    "{context}\n",
    "\n",
    "Question: {question}\n",
    "Answer in traditional Chinese:\"\"\"\n",
    "PROMPT = PromptTemplate(\n",
    "    template=prompt_template, input_variables=[\"context\", \"question\"]\n",
    ")"
   ],
   "metadata": {
    "collapsed": false,
    "pycharm": {
     "name": "#%%\n"
    }
   }
  },
  {
   "cell_type": "code",
   "execution_count": 49,
   "outputs": [],
   "source": [
    "chain = load_qa_chain(ChatOpenAI(model_name=\"gpt-3.5-turbo\",openai_api_key=key), chain_type=\"stuff\", prompt=PROMPT)"
   ],
   "metadata": {
    "collapsed": false,
    "pycharm": {
     "name": "#%%\n"
    }
   }
  },
  {
   "cell_type": "code",
   "execution_count": 50,
   "outputs": [],
   "source": [
    "def query_func(query):\n",
    "  with get_openai_callback() as cb:\n",
    "    docs = docsearch.similarity_search(query)\n",
    "    res = chain.run(input_documents=docs, question=query)\n",
    "    print(f\"Output: {res}\")\n",
    "    print(f\"Total Tokens: {cb.total_tokens}\")\n",
    "    print(f\"Prompt Tokens: {cb.prompt_tokens}\")\n",
    "    print(f\"Completion Tokens: {cb.completion_tokens}\")\n",
    "    print(f\"Successful Requests: {cb.successful_requests}\")\n",
    "    print(f\"Total Cost (USD): ${cb.total_cost}\")"
   ],
   "metadata": {
    "collapsed": false,
    "pycharm": {
     "name": "#%%\n"
    }
   }
  },
  {
   "cell_type": "code",
   "execution_count": 14,
   "outputs": [
    {
     "name": "stdout",
     "output_type": "stream",
     "text": [
      "Output: 公務員懲戒委員會裁定\n",
      "Total Tokens: 988\n",
      "Prompt Tokens: 969\n",
      "Completion Tokens: 19\n",
      "Successful Requests: 1\n",
      "Total Cost (USD): $0.001976\n"
     ]
    }
   ],
   "source": [
    "query_func(\"請告訴我文件中的title\")"
   ],
   "metadata": {
    "collapsed": false,
    "pycharm": {
     "name": "#%%\n"
    }
   }
  },
  {
   "cell_type": "code",
   "execution_count": 11,
   "outputs": [
    {
     "name": "stdout",
     "output_type": "stream",
     "text": [
      "Output: 公務員懲戒委員會裁定\n",
      "Total Tokens: 992\n",
      "Prompt Tokens: 973\n",
      "Completion Tokens: 19\n",
      "Successful Requests: 1\n",
      "Total Cost (USD): $0.001984\n"
     ]
    }
   ],
   "source": [
    "query_func(\"請告訴我文件中的標題\")"
   ],
   "metadata": {
    "collapsed": false,
    "pycharm": {
     "name": "#%%\n"
    }
   }
  },
  {
   "cell_type": "code",
   "execution_count": 12,
   "outputs": [
    {
     "name": "stdout",
     "output_type": "stream",
     "text": [
      "Output: 公務員懲戒委員會裁定\n",
      "Total Tokens: 994\n",
      "Prompt Tokens: 975\n",
      "Completion Tokens: 19\n",
      "Successful Requests: 1\n",
      "Total Cost (USD): $0.0019879999999999997\n"
     ]
    }
   ],
   "source": [
    "query_func(\"請告訴我文件中的title(標題)\")"
   ],
   "metadata": {
    "collapsed": false,
    "pycharm": {
     "name": "#%%\n"
    }
   }
  },
  {
   "cell_type": "code",
   "execution_count": 13,
   "outputs": [
    {
     "name": "stdout",
     "output_type": "stream",
     "text": [
      "Output: 公務員懲戒委員會裁定\n",
      "Total Tokens: 999\n",
      "Prompt Tokens: 980\n",
      "Completion Tokens: 19\n",
      "Successful Requests: 1\n",
      "Total Cost (USD): $0.0019979999999999998\n"
     ]
    }
   ],
   "source": [
    "query_func(\"title指文件中的標題，請告訴我文件中的title\")"
   ],
   "metadata": {
    "collapsed": false,
    "pycharm": {
     "name": "#%%\n"
    }
   }
  },
  {
   "cell_type": "code",
   "execution_count": 20,
   "outputs": [
    {
     "name": "stdout",
     "output_type": "stream",
     "text": [
      "Output: 本件停止審議程序之議決撤銷，並依公務員懲戒法第39條第2項裁定。其理由為被付懲戒人陳仁維因違法失職案件應否受懲戒處分及處分之輕重，同一行為涉及刑事部分，以其犯罪是否成立為斷，前經本會於102年3月15日議決於刑事裁判確定前，停止審議程序在案。經查被付懲戒人所涉刑事案件，業經臺灣高等法院花蓮分院以106年度重上更�字第17號判決在案，此有該判決書在卷可稽。依上開說明，本會合議庭自得依職權將原停止審議程序之議決撤銷，繼續審理程序。\n",
      "Total Tokens: 1281\n",
      "Prompt Tokens: 970\n",
      "Completion Tokens: 311\n",
      "Successful Requests: 1\n",
      "Total Cost (USD): $0.002562\n"
     ]
    }
   ],
   "source": [
    "query_func(\"請告訴我文件中的main_content\")"
   ],
   "metadata": {
    "collapsed": false,
    "pycharm": {
     "name": "#%%\n"
    }
   }
  },
  {
   "cell_type": "code",
   "execution_count": 19,
   "outputs": [
    {
     "name": "stdout",
     "output_type": "stream",
     "text": [
      "Output: 本件停止審議程序之議決撤銷。\n",
      "Total Tokens: 990\n",
      "Prompt Tokens: 970\n",
      "Completion Tokens: 20\n",
      "Successful Requests: 1\n",
      "Total Cost (USD): $0.00198\n"
     ]
    }
   ],
   "source": [
    "query_func(\"請告訴我文件中的主文\")"
   ],
   "metadata": {
    "collapsed": false,
    "pycharm": {
     "name": "#%%\n"
    }
   }
  },
  {
   "cell_type": "code",
   "execution_count": 21,
   "outputs": [
    {
     "name": "stdout",
     "output_type": "stream",
     "text": [
      "Output: 本件停止審議程序之議決撤銷。\n",
      "Total Tokens: 993\n",
      "Prompt Tokens: 973\n",
      "Completion Tokens: 20\n",
      "Successful Requests: 1\n",
      "Total Cost (USD): $0.001986\n"
     ]
    }
   ],
   "source": [
    "query_func(\"請告訴我文件中的main_content(主文)\")\n"
   ],
   "metadata": {
    "collapsed": false,
    "pycharm": {
     "name": "#%%\n"
    }
   }
  },
  {
   "cell_type": "code",
   "execution_count": 22,
   "outputs": [
    {
     "name": "stdout",
     "output_type": "stream",
     "text": [
      "Output: 本件停止審議程序之議決撤銷。\n",
      "Total Tokens: 999\n",
      "Prompt Tokens: 979\n",
      "Completion Tokens: 20\n",
      "Successful Requests: 1\n",
      "Total Cost (USD): $0.001998\n"
     ]
    }
   ],
   "source": [
    "query_func(\"main_content指文件中的主文，請告訴我文件中的main_content\")\n"
   ],
   "metadata": {
    "collapsed": false,
    "pycharm": {
     "name": "#%%\n"
    }
   }
  },
  {
   "cell_type": "code",
   "execution_count": 23,
   "outputs": [
    {
     "name": "stdout",
     "output_type": "stream",
     "text": [
      "Output: 中華民國108年9月11日\n",
      "Total Tokens: 981\n",
      "Prompt Tokens: 969\n",
      "Completion Tokens: 12\n",
      "Successful Requests: 1\n",
      "Total Cost (USD): $0.001962\n"
     ]
    }
   ],
   "source": [
    "query_func(\"請告訴我文件中的date\")\n"
   ],
   "metadata": {
    "collapsed": false,
    "pycharm": {
     "name": "#%%\n"
    }
   }
  },
  {
   "cell_type": "code",
   "execution_count": 24,
   "outputs": [
    {
     "name": "stdout",
     "output_type": "stream",
     "text": [
      "Output: 中華民國108年9月11日\n",
      "Total Tokens: 981\n",
      "Prompt Tokens: 969\n",
      "Completion Tokens: 12\n",
      "Successful Requests: 1\n",
      "Total Cost (USD): $0.001962\n"
     ]
    }
   ],
   "source": [
    "query_func(\"請告訴我文件中的日期\")"
   ],
   "metadata": {
    "collapsed": false,
    "pycharm": {
     "name": "#%%\n"
    }
   }
  },
  {
   "cell_type": "code",
   "execution_count": 25,
   "outputs": [
    {
     "name": "stdout",
     "output_type": "stream",
     "text": [
      "Output: 中華民國108年9月11日\n",
      "Total Tokens: 983\n",
      "Prompt Tokens: 971\n",
      "Completion Tokens: 12\n",
      "Successful Requests: 1\n",
      "Total Cost (USD): $0.001966\n"
     ]
    }
   ],
   "source": [
    "query_func(\"請告訴我文件中的date(日期)\")\n"
   ],
   "metadata": {
    "collapsed": false,
    "pycharm": {
     "name": "#%%\n"
    }
   }
  },
  {
   "cell_type": "code",
   "execution_count": 26,
   "outputs": [
    {
     "name": "stdout",
     "output_type": "stream",
     "text": [
      "Output: 中華民國108年9月11日\n",
      "Total Tokens: 988\n",
      "Prompt Tokens: 976\n",
      "Completion Tokens: 12\n",
      "Successful Requests: 1\n",
      "Total Cost (USD): $0.001976\n"
     ]
    }
   ],
   "source": [
    "query_func(\"date指文件中的日期，請告訴我文件中的date\")"
   ],
   "metadata": {
    "collapsed": false,
    "pycharm": {
     "name": "#%%\n"
    }
   }
  },
  {
   "cell_type": "code",
   "execution_count": 27,
   "outputs": [
    {
     "name": "stdout",
     "output_type": "stream",
     "text": [
      "Output: 文件中沒有提到appeal和appellant。\n",
      "Total Tokens: 985\n",
      "Prompt Tokens: 972\n",
      "Completion Tokens: 13\n",
      "Successful Requests: 1\n",
      "Total Cost (USD): $0.00197\n"
     ]
    }
   ],
   "source": [
    "query_func(\"請告訴我文件中的appeal.appellant\")\n"
   ],
   "metadata": {
    "collapsed": false,
    "pycharm": {
     "name": "#%%\n"
    }
   }
  },
  {
   "cell_type": "code",
   "execution_count": 28,
   "outputs": [
    {
     "name": "stdout",
     "output_type": "stream",
     "text": [
      "Output: 移送機關：內政部\n",
      "上訴人、聲請人、原告：文件中沒有提到，無法得知。\n",
      "Total Tokens: 1031\n",
      "Prompt Tokens: 990\n",
      "Completion Tokens: 41\n",
      "Successful Requests: 1\n",
      "Total Cost (USD): $0.002062\n"
     ]
    }
   ],
   "source": [
    "query_func(\"請告訴我文件中的移送機關/上訴人/聲請人/原告\")"
   ],
   "metadata": {
    "collapsed": false,
    "pycharm": {
     "name": "#%%\n"
    }
   }
  },
  {
   "cell_type": "code",
   "execution_count": 32,
   "outputs": [
    {
     "name": "stdout",
     "output_type": "stream",
     "text": [
      "Output: 內政部。\n",
      "Total Tokens: 980\n",
      "Prompt Tokens: 975\n",
      "Completion Tokens: 5\n",
      "Successful Requests: 1\n",
      "Total Cost (USD): $0.00196\n"
     ]
    }
   ],
   "source": [
    "query_func(\"請告訴我文件中的移送機關\")"
   ],
   "metadata": {
    "collapsed": false,
    "pycharm": {
     "name": "#%%\n"
    }
   }
  },
  {
   "cell_type": "code",
   "execution_count": 29,
   "outputs": [
    {
     "name": "stderr",
     "output_type": "stream",
     "text": [
      "Retrying langchain.chat_models.openai.ChatOpenAI.completion_with_retry.<locals>._completion_with_retry in 1.0 seconds as it raised RateLimitError: The server had an error while processing your request. Sorry about that!.\n"
     ]
    },
    {
     "name": "stdout",
     "output_type": "stream",
     "text": [
      "Output: 文件中沒有提到appeal、appellant或原告等相關詞語，因此無法回答此問題。\n",
      "Total Tokens: 1031\n",
      "Prompt Tokens: 995\n",
      "Completion Tokens: 36\n",
      "Successful Requests: 1\n",
      "Total Cost (USD): $0.002062\n"
     ]
    }
   ],
   "source": [
    "query_func(\"請告訴我文件中的appeal.appellant(移送機關/上訴人/聲請人/原告)\")\n"
   ],
   "metadata": {
    "collapsed": false,
    "pycharm": {
     "name": "#%%\n"
    }
   }
  },
  {
   "cell_type": "code",
   "execution_count": 33,
   "outputs": [
    {
     "name": "stdout",
     "output_type": "stream",
     "text": [
      "Output: 移送機關為內政部。\n",
      "Total Tokens: 995\n",
      "Prompt Tokens: 980\n",
      "Completion Tokens: 15\n",
      "Successful Requests: 1\n",
      "Total Cost (USD): $0.00199\n"
     ]
    }
   ],
   "source": [
    "query_func(\"請告訴我文件中的appeal.appellant(移送機關)\")\n"
   ],
   "metadata": {
    "collapsed": false,
    "pycharm": {
     "name": "#%%\n"
    }
   }
  },
  {
   "cell_type": "code",
   "execution_count": 30,
   "outputs": [
    {
     "name": "stdout",
     "output_type": "stream",
     "text": [
      "Output: 文件中的appeal.appellant指的是被付懲戒人陳仁維。\n",
      "Total Tokens: 1029\n",
      "Prompt Tokens: 1002\n",
      "Completion Tokens: 27\n",
      "Successful Requests: 1\n",
      "Total Cost (USD): $0.002058\n"
     ]
    }
   ],
   "source": [
    "query_func(\"appeal.appellant指文件中的移送機關/上訴人/聲請人/原告，請告訴我文件中的appeal.appellant\")"
   ],
   "metadata": {
    "collapsed": false,
    "pycharm": {
     "name": "#%%\n"
    }
   }
  },
  {
   "cell_type": "code",
   "execution_count": 51,
   "outputs": [
    {
     "name": "stdout",
     "output_type": "stream",
     "text": [
      "Output: 徐國勇。\n",
      "Total Tokens: 978\n",
      "Prompt Tokens: 971\n",
      "Completion Tokens: 7\n",
      "Successful Requests: 1\n",
      "Total Cost (USD): $0.001956\n"
     ]
    }
   ],
   "source": [
    "query_func(\"請告訴我文件中的代表人\")"
   ],
   "metadata": {
    "collapsed": false,
    "pycharm": {
     "name": "#%%\n"
    }
   }
  },
  {
   "cell_type": "code",
   "execution_count": 55,
   "outputs": [
    {
     "name": "stderr",
     "output_type": "stream",
     "text": [
      "Retrying langchain.chat_models.openai.ChatOpenAI.completion_with_retry.<locals>._completion_with_retry in 1.0 seconds as it raised RateLimitError: That model is currently overloaded with other requests. You can retry your request, or contact us through our help center at help.openai.com if the error persists. (Please include the request ID 7843bfdd1f90d24d0a246b7891dc2242 in your message.).\n"
     ]
    },
    {
     "name": "stdout",
     "output_type": "stream",
     "text": [
      "Output: 被付懲戒人是陳仁維，臺東縣警察局警務員。\n",
      "Total Tokens: 1014\n",
      "Prompt Tokens: 977\n",
      "Completion Tokens: 37\n",
      "Successful Requests: 1\n",
      "Total Cost (USD): $0.002028\n"
     ]
    }
   ],
   "source": [
    "query_func(\"請告訴我文件中的被付懲戒人\")"
   ],
   "metadata": {
    "collapsed": false,
    "pycharm": {
     "name": "#%%\n"
    }
   }
  },
  {
   "cell_type": "code",
   "execution_count": 35,
   "outputs": [
    {
     "name": "stdout",
     "output_type": "stream",
     "text": [
      "Output: 中華民國108年9月11日\n",
      "Total Tokens: 981\n",
      "Prompt Tokens: 969\n",
      "Completion Tokens: 12\n",
      "Successful Requests: 1\n",
      "Total Cost (USD): $0.001962\n"
     ]
    }
   ],
   "source": [
    "query_func(\"請告訴我文件中的date\")"
   ],
   "metadata": {
    "collapsed": false,
    "pycharm": {
     "name": "#%%\n"
    }
   }
  },
  {
   "cell_type": "code",
   "execution_count": 38,
   "outputs": [
    {
     "name": "stderr",
     "output_type": "stream",
     "text": [
      "Retrying langchain.chat_models.openai.ChatOpenAI.completion_with_retry.<locals>._completion_with_retry in 1.0 seconds as it raised Timeout: Request timed out: HTTPSConnectionPool(host='api.openai.com', port=443): Read timed out. (read timeout=60).\n"
     ]
    },
    {
     "name": "stdout",
     "output_type": "stream",
     "text": [
      "Output: 文件中的理由項目有三個，分別是：\n",
      "一、修正公務員懲戒法後尚未終結的案件程序規定繼續審理，且停止審理程序之裁定可依聲請或職權撤銷。\n",
      "二、本件被付懲戒人所涉及刑事案件已經經臺灣高等法院判決，在判決確定前停止審議程序的議決撤銷，繼續審理程序。\n",
      "三、依公務員懲戒法第39條第2項，裁定如主文。\n",
      "Total Tokens: 1186\n",
      "Prompt Tokens: 988\n",
      "Completion Tokens: 198\n",
      "Successful Requests: 1\n",
      "Total Cost (USD): $0.002372\n"
     ]
    }
   ],
   "source": [
    "query_func(\"請告訴我文件中的理由項目有多少個?並請一一列出\")"
   ],
   "metadata": {
    "collapsed": false,
    "pycharm": {
     "name": "#%%\n"
    }
   }
  },
  {
   "cell_type": "code",
   "execution_count": 39,
   "outputs": [
    {
     "name": "stdout",
     "output_type": "stream",
     "text": [
      "Output: 一、公務員懲戒法修正前已繫屬於公務員懲戒委員會之懲戒案件尚未終結，修正後依程序繼續審理，但修正前已依法進行之程序效力不受影響。\n",
      "二、被付懲戒人陳仁維案件涉及刑事部分，以其犯罪是否成立為斷，前經本會停止審議程序在案，現已有判決確定，故原停止審議程序之議決撤銷，繼續審理程序。\n",
      "三、依公務員懲戒法第39條第2項，裁定如主文。\n",
      "Total Tokens: 1204\n",
      "Prompt Tokens: 973\n",
      "Completion Tokens: 231\n",
      "Successful Requests: 1\n",
      "Total Cost (USD): $0.002408\n"
     ]
    }
   ],
   "source": [
    "query_func(\"請一一列出文件中理由的項目\")"
   ],
   "metadata": {
    "collapsed": false,
    "pycharm": {
     "name": "#%%\n"
    }
   }
  },
  {
   "cell_type": "code",
   "execution_count": 41,
   "outputs": [
    {
     "name": "stdout",
     "output_type": "stream",
     "text": [
      "Output: 一、修正後程序規定繼續審理，但修正前程序效力不受影響，可撤銷停止審理程序之議決。\n",
      "二、被付懲戒人所涉行為涉及刑事部分，需等待刑事裁判確定，已有該判決書在卷可稽。\n",
      "三、依公務員懲戒法第39條第2項，裁定如主文。\n",
      "Total Tokens: 1122\n",
      "Prompt Tokens: 981\n",
      "Completion Tokens: 141\n",
      "Successful Requests: 1\n",
      "Total Cost (USD): $0.0022440000000000003\n"
     ]
    }
   ],
   "source": [
    "query_func(\"請一一列出文件中理由的項目，並不做其他修改\")"
   ],
   "metadata": {
    "collapsed": false,
    "pycharm": {
     "name": "#%%\n"
    }
   }
  },
  {
   "cell_type": "code",
   "execution_count": 56,
   "outputs": [
    {
     "name": "stdout",
     "output_type": "stream",
     "text": [
      "Output: 本件停止審議程序之議決撤銷，因為被付懲戒人所涉刑事案件已經有判決，依據公務員懲戒法第77條第1款及第39條第2項，本會合議庭得依職權將原停止審議程序之議決撤銷，繼續審理程序。\n",
      "Total Tokens: 1099\n",
      "Prompt Tokens: 967\n",
      "Completion Tokens: 132\n",
      "Successful Requests: 1\n",
      "Total Cost (USD): $0.002198\n"
     ]
    }
   ],
   "source": [
    "query_func(\"請問文件中的理由\")"
   ],
   "metadata": {
    "collapsed": false,
    "pycharm": {
     "name": "#%%\n"
    }
   }
  },
  {
   "cell_type": "code",
   "execution_count": 57,
   "outputs": [
    {
     "name": "stdout",
     "output_type": "stream",
     "text": [
      "Output: 姜仁脩\n",
      "Total Tokens: 982\n",
      "Prompt Tokens: 975\n",
      "Completion Tokens: 7\n",
      "Successful Requests: 1\n",
      "Total Cost (USD): $0.001964\n"
     ]
    }
   ],
   "source": [
    "query_func(\"請問文件中的審判長委員\")"
   ],
   "metadata": {
    "collapsed": false,
    "pycharm": {
     "name": "#%%\n"
    }
   }
  },
  {
   "cell_type": "code",
   "execution_count": 59,
   "outputs": [
    {
     "name": "stdout",
     "output_type": "stream",
     "text": [
      "Output: 公務員懲戒委員會第二庭\n",
      "Total Tokens: 988\n",
      "Prompt Tokens: 968\n",
      "Completion Tokens: 20\n",
      "Successful Requests: 1\n",
      "Total Cost (USD): $0.001976\n"
     ]
    }
   ],
   "source": [
    "query_func(\"請問文件中的法庭\")"
   ],
   "metadata": {
    "collapsed": false,
    "pycharm": {
     "name": "#%%\n"
    }
   }
  },
  {
   "cell_type": "code",
   "execution_count": 60,
   "outputs": [
    {
     "name": "stdout",
     "output_type": "stream",
     "text": [
      "Output: 審判長委員姜仁脩、委員吳景源、委員洪佳濱、委員吳謀焰、委員蘇振堂。\n",
      "Total Tokens: 1036\n",
      "Prompt Tokens: 973\n",
      "Completion Tokens: 63\n",
      "Successful Requests: 1\n",
      "Total Cost (USD): $0.002072\n"
     ]
    }
   ],
   "source": [
    "query_func(\"請問文件中的委員有哪些\")"
   ],
   "metadata": {
    "collapsed": false,
    "pycharm": {
     "name": "#%%\n"
    }
   }
  },
  {
   "cell_type": "code",
   "execution_count": 61,
   "outputs": [
    {
     "name": "stdout",
     "output_type": "stream",
     "text": [
      "Output: 審判長委員姜仁脩、委員吳景源、委員洪佳濱、委員吳謀焰、委員蘇振堂。\n",
      "Total Tokens: 1032\n",
      "Prompt Tokens: 969\n",
      "Completion Tokens: 63\n",
      "Successful Requests: 1\n",
      "Total Cost (USD): $0.002064\n"
     ]
    }
   ],
   "source": [
    "query_func(\"請問文件中的委員\")"
   ],
   "metadata": {
    "collapsed": false,
    "pycharm": {
     "name": "#%%\n"
    }
   }
  },
  {
   "cell_type": "code",
   "execution_count": 62,
   "outputs": [
    {
     "name": "stdout",
     "output_type": "stream",
     "text": [
      "Output: 書記官黃紋麗。\n",
      "Total Tokens: 983\n",
      "Prompt Tokens: 970\n",
      "Completion Tokens: 13\n",
      "Successful Requests: 1\n",
      "Total Cost (USD): $0.001966\n"
     ]
    }
   ],
   "source": [
    "query_func(\"請問文件中的書記官\")"
   ],
   "metadata": {
    "collapsed": false,
    "pycharm": {
     "name": "#%%\n"
    }
   }
  },
  {
   "cell_type": "code",
   "execution_count": 63,
   "outputs": [
    {
     "name": "stdout",
     "output_type": "stream",
     "text": [
      "Output: 書記官為黃紋麗。\n",
      "Total Tokens: 989\n",
      "Prompt Tokens: 973\n",
      "Completion Tokens: 16\n",
      "Successful Requests: 1\n",
      "Total Cost (USD): $0.001978\n"
     ]
    }
   ],
   "source": [
    "query_func(\"請告訴我文件中的書記官\")"
   ],
   "metadata": {
    "collapsed": false,
    "pycharm": {
     "name": "#%%\n"
    }
   }
  }
 ],
 "metadata": {
  "kernelspec": {
   "name": "pycharm-aa15afaf",
   "language": "python",
   "display_name": "PyCharm (pdf-extraction)"
  },
  "language_info": {
   "codemirror_mode": {
    "name": "ipython",
    "version": 2
   },
   "file_extension": ".py",
   "mimetype": "text/x-python",
   "name": "python",
   "nbconvert_exporter": "python",
   "pygments_lexer": "ipython2",
   "version": "2.7.6"
  }
 },
 "nbformat": 4,
 "nbformat_minor": 0
}