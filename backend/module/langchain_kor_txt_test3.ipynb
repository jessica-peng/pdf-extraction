{
 "cells": [
  {
   "cell_type": "code",
   "execution_count": null,
   "metadata": {
    "collapsed": true
   },
   "outputs": [],
   "source": [
    "from langchain.chat_models import ChatOpenAI\n",
    "from kor import create_extraction_chain, Object, Text, Number, extract_from_documents\n",
    "\n",
    "with open(\"API_KEY\", \"r\", encoding=\"utf-8\") as f:\n",
    "    key = f.read()"
   ]
  },
  {
   "cell_type": "code",
   "execution_count": null,
   "outputs": [],
   "source": [
    "llm = ChatOpenAI(\n",
    "    model_name=\"gpt-3.5-turbo\",\n",
    "    temperature=0,\n",
    "    max_tokens=1500,\n",
    "    openai_api_key=key\n",
    ")"
   ],
   "metadata": {
    "collapsed": false,
    "pycharm": {
     "name": "#%%\n"
    }
   }
  },
  {
   "cell_type": "code",
   "execution_count": null,
   "outputs": [],
   "source": [
    "appeal = Object(\n",
    "    id=\"appeal\",\n",
    "    description=\"上訴人相關資訊;例如:法定代理人,訴訟代理人,代表人...等等\",\n",
    "    attributes=[\n",
    "        Text(id=\"agent\", description=\"代理人\", many=True),\n",
    "        Text(id=\"appellant\", description=\"上訴人\", examples=[(\"原告　蔡宗甫\\n\", \"蔡宗甫\")], many=True),\n",
    "        Text(id=\"representative\", description=\"代表人\", many=True),\n",
    "        Text(id=\"attorney\", description=\"訴訟代理人\", examples=[(\"訴訟代理人　林虹妤\\n\", \"林虹妤\")], many=True),\n",
    "        Text(id=\"reagent\", description=\"複代理人\", many=True),\n",
    "        Text(id=\"legal_representative\", description=\"法定代理人\", many=True),\n",
    "        Text(id=\"defender\", description=\"辯護人\", many=True),\n",
    "        Text(id=\"assistant\", description=\"輔佐人\", many=True)\n",
    "    ]\n",
    ")\n",
    "\n",
    "appealed = Object(\n",
    "    id=\"appealed\",\n",
    "    description=\"被上訴人相關資訊;例如:法定代理人,訴訟代理人,代表人...等等\",\n",
    "    attributes=[\n",
    "        Text(id=\"agent\", description=\"代理人\", many=True),\n",
    "        Text(id=\"appellee\", description=\"被上訴人\", examples=[(\"被告　臺北市交通事件裁決所\\n\", \"臺北市交通事件裁決所\")], many=True),\n",
    "        Text(id=\"representative\", description=\"代表人\", examples=[(\"代表人　蘇福智\\n\", \"蘇福智\")], many=True),\n",
    "        Text(id=\"attorney\", description=\"訴訟代理人\", examples=[(\"訴訟代理人　黃郁軒\\n\", \"黃郁軒\")], many=True),\n",
    "        Text(id=\"reagent\", description=\"複代理人\", many=True),\n",
    "        Text(id=\"legal_representative\", description=\"法定代理人\", many=True),\n",
    "        Text(id=\"defender\", description=\"辯護人\", many=True),\n",
    "        Text(id=\"assistant\", description=\"輔佐人\", many=True)\n",
    "    ]\n",
    ")\n",
    "\n",
    "schema_part1_3 = Object(\n",
    "    id=\"judgment_info_part1\",\n",
    "    description=\"擷取分析裁判書的上半部分屬性值\",\n",
    "    attributes=[\n",
    "        Text(\n",
    "            id=\"title\",\n",
    "            description=\"這份裁判書的標題\",\n",
    "            examples=[(\"臺灣士林地方法院行政訴訟判決\\n\", \"臺灣士林地方法院行政訴訟判決\")],\n",
    "        ),\n",
    "        Text(\n",
    "            id=\"id\",\n",
    "            description=\"這份裁判書的編號\",\n",
    "            examples=[(\"111年度交字第35號\\n\", \"111年度交字第35號\")],\n",
    "        ),\n",
    "        appeal,\n",
    "        appealed,\n",
    "        Text(\n",
    "            id=\"foreword\",\n",
    "            description=\"這份裁判書的前言\",\n",
    "            examples=[(\"上列當事人間交通裁決事件，原告不服被告中華民國111年1月11\\n\"\n",
    "                       \"日北市裁催字第22-AC0000000號、第22-AC0000000號裁決，提起\\n\"\n",
    "                       \"行政訴訟，本院判決如下：\\n\", \"上列當事人間交通裁決事件，原告不服被告中華民國111年1月11日北市裁催字第22-AC0000000號、第22-AC0000000號裁決，提起行政訴訟，本院判決如下：\")],\n",
    "        ),\n",
    "        Text(\n",
    "            id=\"main_content\",\n",
    "            description=\"這份裁判書的主文\",\n",
    "            examples=[(\"主文\\n\"\n",
    "                       \"原告之訴駁回。\\n\"\n",
    "                       \"訴訟費用新臺幣參佰元由原告負擔。\\n\", \"原告之訴駁回。訴訟費用新臺幣參佰元由原告負擔。\")],\n",
    "        )\n",
    "    ],\n",
    "    examples=[(\"臺灣士林地方法院行政訴訟判決\\n\"\n",
    "            \"111年度交字第35號\\n\"\n",
    "            \"原告　蔡宗甫\\n\"\n",
    "            \"訴訟代理人　林虹妤\\n\"\n",
    "            \"被告　臺北市交通事件裁決所\\n\"\n",
    "            \"代表人　蘇福智\\n\"\n",
    "            \"訴訟代理人　黃郁軒\\n\"\n",
    "            \"上列當事人間交通裁決事件，原告不服被告中華民國111年1月11\\n\"\n",
    "            \"日北市裁催字第22-AC0000000號、第22-AC0000000號裁決，提起\\n\"\n",
    "            \"行政訴訟，本院判決如下：\\n\"\n",
    "            \"主文\\n\"\n",
    "            \"原告之訴駁回。\\n\"\n",
    "            \"訴訟費用新臺幣參佰元由原告負擔。\\n\",\n",
    "        {\n",
    "           \"appeal\": {\n",
    "                \"agent\": [],\n",
    "                \"appellant\": [\"蔡宗甫\"],\n",
    "                \"assistant\": [],\n",
    "                \"attorney\": [\"林虹妤\"],\n",
    "                \"defender\": [],\n",
    "                \"legal_representative\": [],\n",
    "                \"reagent\": [],\n",
    "                \"representative\": []\n",
    "            },\n",
    "            \"appealed\": {\n",
    "                \"agent\": [],\n",
    "                \"appellee\": [\"臺北市交通事件裁決所\"],\n",
    "                \"assistant\": [],\n",
    "                \"attorney\": [\"黃郁軒\"],\n",
    "                \"defender\": [],\n",
    "                \"legal_representative\": [],\n",
    "                \"reagent\": [],\n",
    "                \"representative\": [\"蘇福智\"]\n",
    "            },\n",
    "            \"foreword\": \"上列當事人間交通裁決事件，原告不服被告中華民國111年1月11日北市裁催字第22-AC0000000號、第22-AC0000000號裁決，提起行政訴訟，本院判決如下：\",\n",
    "            \"id\": \"111年度交字第35號\",\n",
    "            \"main_content\": \"原告之訴駁回。訴訟費用新臺幣參佰元由原告負擔。\",\n",
    "            \"title\": \"臺灣士林地方法院行政訴訟判決\"\n",
    "            })\n",
    "    ],\n",
    "    many=True\n",
    ")"
   ],
   "metadata": {
    "collapsed": false,
    "pycharm": {
     "name": "#%%\n"
    }
   }
  },
  {
   "cell_type": "code",
   "execution_count": null,
   "outputs": [],
   "source": [
    "chain_part3 = create_extraction_chain(llm, schema_part1_3, encoder_or_encoder_class=\"JSON\", input_formatter=None)\n",
    "print(chain_part3.prompt.format_prompt(\"[user input]\").to_string())"
   ],
   "metadata": {
    "collapsed": false,
    "pycharm": {
     "name": "#%%\n"
    }
   }
  },
  {
   "cell_type": "code",
   "execution_count": null,
   "outputs": [],
   "source": [
    "pdf_text = \"公務員懲戒委員會裁定\\n\" \\\n",
    "       \"102年度清字第11347號\\n\" \\\n",
    "       \"移送機關　內政部　設臺北市○○區○○路○號\\n\" \\\n",
    "       \"代表人　徐國勇　住同上\\n\" \\\n",
    "       \"被付懲戒人　陳仁維　臺東縣警察局警務員\\n\" \\\n",
    "       \"上列被付懲戒人因違法失職案件，經內政部移送審理，本會裁定\\n\"\\\n",
    "       \"如下：\\n\"\\\n",
    "       \"主文\\n\"\\\n",
    "       \"本件停止審議程序之議決撤銷。\\n\"\n",
    "print(len(pdf_text))"
   ],
   "metadata": {
    "collapsed": false,
    "pycharm": {
     "name": "#%%\n"
    }
   }
  },
  {
   "cell_type": "code",
   "execution_count": null,
   "outputs": [],
   "source": [
    "from langchain.callbacks import get_openai_callback\n",
    "with get_openai_callback() as cb:\n",
    "    document_extraction_results = chain_part3.predict_and_parse(text=pdf_text)\n",
    "    print(f\"Output: {document_extraction_results.get('data')}\")\n",
    "    print(f\"Total Tokens: {cb.total_tokens}\")\n",
    "    print(f\"Prompt Tokens: {cb.prompt_tokens}\")\n",
    "    print(f\"Completion Tokens: {cb.completion_tokens}\")\n",
    "    print(f\"Successful Requests: {cb.successful_requests}\")\n",
    "    print(f\"Total Cost (USD): ${cb.total_cost}\")"
   ],
   "metadata": {
    "collapsed": false,
    "pycharm": {
     "name": "#%%\n"
    }
   }
  }
 ],
 "metadata": {
  "kernelspec": {
   "name": "pycharm-aa15afaf",
   "language": "python",
   "display_name": "PyCharm (pdf-extraction)"
  },
  "language_info": {
   "codemirror_mode": {
    "name": "ipython",
    "version": 2
   },
   "file_extension": ".py",
   "mimetype": "text/x-python",
   "name": "python",
   "nbconvert_exporter": "python",
   "pygments_lexer": "ipython2",
   "version": "2.7.6"
  }
 },
 "nbformat": 4,
 "nbformat_minor": 0
}